{
  "nbformat": 4,
  "nbformat_minor": 0,
  "metadata": {
    "colab": {
      "provenance": [],
      "collapsed_sections": [
        "xuqiTKaCIbE1",
        "WnxHIn9pLKlB",
        "XJnu5n8eLsSz"
      ]
    },
    "kernelspec": {
      "name": "python3",
      "display_name": "Python 3"
    },
    "language_info": {
      "name": "python"
    }
  },
  "cells": [
    {
      "cell_type": "markdown",
      "source": [
        "<h1><center>Translate COCO</center></h1>\n",
        "\n",
        "\n",
        "<!-- <center>Author: </center> -->\n",
        "\n",
        "<b>github:</b> [ml_project_image_cap](https://github.com/Farhana100/ml_project_image_cap)\n",
        "\n",
        "<!-- <b>paper:</b> [TIST: Transcriptome and Histopathological Image Integrative Analysis for Spatial Transcriptomics](https://doi.org/10.1016/j.gpb.2022.11.012) -->"
      ],
      "metadata": {
        "id": "tAN_mk9EHF31"
      }
    },
    {
      "cell_type": "markdown",
      "source": [
        "[![Open in colab](https://colab.research.google.com/assets/colab-badge.svg)](https://colab.research.google.com/drive/19L0CG9cCwB4CjwnBc-y83AsXvWmfFKY9?usp=sharing)"
      ],
      "metadata": {
        "id": "BtaS4jzFQJsA"
      }
    },
    {
      "cell_type": "markdown",
      "source": [
        "### dependency installation"
      ],
      "metadata": {
        "id": "xuqiTKaCIbE1"
      }
    },
    {
      "cell_type": "code",
      "source": [
        "!pip install googletrans==3.1.0a0 # specific version, or else gives error"
      ],
      "metadata": {
        "id": "eFqi3ZvVIdj5"
      },
      "execution_count": null,
      "outputs": []
    },
    {
      "cell_type": "markdown",
      "source": [
        "### data download\n",
        "source: [cocodataset](https://cocodataset.org/#download)"
      ],
      "metadata": {
        "id": "Z9kZ28BwK_Rr"
      }
    },
    {
      "cell_type": "markdown",
      "source": [
        "#### 2017 train/val\n",
        "\n",
        "already saved in drive. get from there"
      ],
      "metadata": {
        "id": "WnxHIn9pLKlB"
      }
    },
    {
      "cell_type": "markdown",
      "source": [
        "##### image"
      ],
      "metadata": {
        "id": "XJnu5n8eLsSz"
      }
    },
    {
      "cell_type": "code",
      "source": [
        "# !wget \"http://images.cocodataset.org/zips/train2017.zip\""
      ],
      "metadata": {
        "id": "BEFgh95SLFGb"
      },
      "execution_count": null,
      "outputs": []
    },
    {
      "cell_type": "code",
      "source": [
        "# !wget \"http://images.cocodataset.org/zips/val2017.zip\""
      ],
      "metadata": {
        "id": "JntO33rlMENJ"
      },
      "execution_count": null,
      "outputs": []
    },
    {
      "cell_type": "markdown",
      "source": [
        "##### captions"
      ],
      "metadata": {
        "id": "FYpeZEZ0L4dp"
      }
    },
    {
      "cell_type": "code",
      "source": [
        "# !wget \"http://images.cocodataset.org/annotations/annotations_trainval2017.zip\""
      ],
      "metadata": {
        "id": "ofB8WcygL6XM"
      },
      "execution_count": null,
      "outputs": []
    },
    {
      "cell_type": "markdown",
      "source": [
        "#### copy from drive"
      ],
      "metadata": {
        "id": "Yqrz88C9GwYj"
      }
    },
    {
      "cell_type": "code",
      "source": [
        "!rm -rf \"/content/annotations\""
      ],
      "metadata": {
        "id": "AeIWJIkTSgSx"
      },
      "execution_count": null,
      "outputs": []
    },
    {
      "cell_type": "code",
      "source": [
        "#@markdown <center><h3>mount drive</h3></center>\n",
        "from google.colab import drive\n",
        "drive.mount(\"/content/drive/\")"
      ],
      "metadata": {
        "cellView": "form",
        "id": "dM3UiK2CwfQ3",
        "colab": {
          "base_uri": "https://localhost:8080/"
        },
        "outputId": "64c1a01e-acc8-44ff-db05-7711bffb021f"
      },
      "execution_count": null,
      "outputs": [
        {
          "output_type": "stream",
          "name": "stdout",
          "text": [
            "Mounted at /content/drive/\n"
          ]
        }
      ]
    },
    {
      "cell_type": "code",
      "source": [
        "# !rsync -ah --progress \"/content/drive/MyDrive/My Drive (1705092)/Study Materials/Level 4 - Term 2/CSE471-472/CSE472/ML project/data/coco-dataset-2017/annotations\" \"/content/\"\n",
        "!rsync -ah --progress \"/content/annotations/captions_train2017_refined.json\" \"/content/drive/MyDrive/My Drive (1705092)/Study Materials/Level 4 - Term 2/CSE471-472/CSE472/ML project/data/coco-dataset-2017/annotations\""
      ],
      "metadata": {
        "id": "lZwKDHucwvbg"
      },
      "execution_count": null,
      "outputs": []
    },
    {
      "cell_type": "code",
      "source": [
        "#@markdown <center><h3>unmount drive</h3></center>\n",
        "drive.flush_and_unmount()"
      ],
      "metadata": {
        "cellView": "form",
        "id": "3-EkzvQvxDIh"
      },
      "execution_count": null,
      "outputs": []
    },
    {
      "cell_type": "markdown",
      "source": [
        "### import"
      ],
      "metadata": {
        "id": "_svgE5-xIRFI"
      }
    },
    {
      "cell_type": "code",
      "execution_count": null,
      "metadata": {
        "id": "MYxLO1TtHE_j"
      },
      "outputs": [],
      "source": [
        "from googletrans import Translator as tr\n",
        "import json\n",
        "from tqdm import tqdm\n",
        "from pathlib import Path\n",
        "import argparse"
      ]
    },
    {
      "cell_type": "markdown",
      "source": [
        "### function def"
      ],
      "metadata": {
        "id": "N0YU6QnNIV25"
      }
    },
    {
      "cell_type": "code",
      "source": [
        "def refine_json(filepath):\n",
        "    filepath = Path(filepath)\n",
        "    with open(filepath, 'r', encoding='utf-8') as f:\n",
        "        data_raw = json.load(f)\n",
        "\n",
        "    images = data_raw['images']\n",
        "    annotations = data_raw['annotations']\n",
        "\n",
        "\n",
        "    records = dict()\n",
        "    for img in images:\n",
        "        record = dict()\n",
        "\n",
        "        record['id'] = img['id']\n",
        "        record['file_name'] = img['file_name']\n",
        "        record['captions'] = list()\n",
        "\n",
        "        records[img['id']] = record\n",
        "\n",
        "    \n",
        "    for ann in annotations:\n",
        "        records[ann['image_id']]['captions'].append(ann['caption'])\n",
        "\n",
        "\n",
        "    # json dump records\n",
        "    refined_filepath = f'{filepath.parent}/{filepath.stem}_refined.json'\n",
        "    with open(refined_filepath, 'w', encoding='utf-8') as f:\n",
        "        json.dump(records, f, indent=4)\n",
        "    \n",
        "    return refined_filepath"
      ],
      "metadata": {
        "id": "ukMRy4f7OptM"
      },
      "execution_count": null,
      "outputs": []
    },
    {
      "cell_type": "code",
      "source": [
        "def get_records(refined_path):\n",
        "    refined_path = Path(refined_path)\n",
        "\n",
        "    data_ref = None\n",
        "    with open(refined_path, 'r', encoding='utf-8') as f:\n",
        "        data_ref = json.load(f)\n",
        "\n",
        "    if data_ref is None:\n",
        "        raise Exception('No data found in refined file')\n",
        "\n",
        "    return data_ref if data_ref else []"
      ],
      "metadata": {
        "id": "HbGjyXUPITfF"
      },
      "execution_count": null,
      "outputs": []
    },
    {
      "cell_type": "code",
      "source": [
        "def translate(text, src='en', dest='bn'):\n",
        "    translator = tr()\n",
        "    result = translator.translate(text, src=src, dest=dest)\n",
        "\n",
        "    result = [r.text for r in result]\n",
        "    return result"
      ],
      "metadata": {
        "id": "M_BSYtNWJMUC"
      },
      "execution_count": null,
      "outputs": []
    },
    {
      "cell_type": "code",
      "source": [
        "def save_temp(json_obj, save_path, count):\n",
        "    save_path = Path(save_path)\n",
        "    save_path = f'{save_path.parent}/{save_path.stem}_translated_{count}.json'\n",
        "    with open(save_path, 'w', encoding='utf-8') as f:\n",
        "        json.dump(json_obj, f, indent=4)"
      ],
      "metadata": {
        "id": "3MEck5JpCUVP"
      },
      "execution_count": null,
      "outputs": []
    },
    {
      "cell_type": "markdown",
      "source": [
        "### main"
      ],
      "metadata": {
        "id": "HEXzIfh2JS12"
      }
    },
    {
      "cell_type": "code",
      "source": [
        "parser = argparse.ArgumentParser()\n",
        "parser.add_argument('--refine', dest='refine', default=False, action='store_true')\n",
        "parser.add_argument('--translate', dest='translate', default=False, action='store_true')\n",
        "parser.add_argument(dest='path', type=str, help='input json path')\n",
        "parser.add_argument('--start_from', dest='start_from', default=0, type=int, help='starting index of key')\n",
        "parser.add_argument('--save_path', dest='save_path', default='.', type=str, help='output json path')"
      ],
      "metadata": {
        "id": "8bdEO8IcgI1Y",
        "colab": {
          "base_uri": "https://localhost:8080/"
        },
        "outputId": "4c8663e1-d11c-4ed1-efa0-fcc05e04b300"
      },
      "execution_count": null,
      "outputs": [
        {
          "output_type": "execute_result",
          "data": {
            "text/plain": [
              "_StoreAction(option_strings=['--save_path'], dest='save_path', nargs=None, const=None, default='.', type=<class 'str'>, choices=None, help='output json path', metavar=None)"
            ]
          },
          "metadata": {},
          "execution_count": 11
        }
      ]
    },
    {
      "cell_type": "code",
      "source": [
        "# args =  parser.parse_args(args=['--refine', '--translate', '/content/annotations/captions_train2017_translated_31500.json', '--start_from', '31500', '--save_path', '/content/drive/MyDrive/My Drive (1705092)/Study Materials/Level 4 - Term 2/CSE471-472/CSE472/ML project/data/coco-dataset-2017/annotations/captions_train2017.json'])\n",
        "args =  parser.parse_args(args=[\n",
        "    '--refine',\n",
        "    # '--translate',\n",
        "    '/content/annotations/captions_train2017.json',\n",
        "    # '--start_from', '113000',\n",
        "    '--save_path',\n",
        "    '/content/drive/MyDrive/My Drive (1705092)/Study Materials/Level 4 - Term 2/CSE471-472/CSE472/ML project/data/coco-dataset-2017/annotations/captions_train2017_refined.json'])"
      ],
      "metadata": {
        "id": "81DNISHyjd9t"
      },
      "execution_count": null,
      "outputs": []
    },
    {
      "cell_type": "code",
      "source": [
        "if args.refine:\n",
        "    print('refining...')\n",
        "    raw_path = args.path\n",
        "    refined_path = refine_json(filepath=raw_path)\n",
        "    print('done')\n",
        "\n",
        "if args.translate:\n",
        "    if args.refine:\n",
        "        # given path was raw\n",
        "        refined_path = refined_path\n",
        "    else:\n",
        "        # given path was refined\n",
        "        refined_path = args.path\n",
        "    \n",
        "    records = get_records(refined_path=refined_path)\n",
        "    translated_records = records.copy()\n",
        "    records_keys = list(records.keys())\n",
        "    records_keys = records_keys[args.start_from:]\n",
        "\n",
        "    print('translating...')\n",
        "    done_count = args.start_from\n",
        "    for id in tqdm(records_keys):\n",
        "        caps = translated_records[id]['captions']\n",
        "        new_caps = translate(caps)\n",
        "        translated_records[id]['captions'] = new_caps\n",
        "        done_count += 1\n",
        "        if done_count % 500 == 0:\n",
        "            print('saving temp...')\n",
        "            save_temp(json_obj=translated_records, save_path=args.save_path, count=done_count)\n",
        "    print('done')\n",
        "\n",
        "    if args.save_path is None or args.save_path == \".\" or args.save_path == \"\" or args.save_path == \" \":\n",
        "        save_path = f'{Path(refined_path).parent}/{Path(refined_path).stem}_translated.json'\n",
        "    else:\n",
        "        save_path = args.save_path\n",
        "\n",
        "    with open(save_path, 'w', encoding='utf-8') as f:\n",
        "        json.dump(translated_records, f, indent=4)"
      ],
      "metadata": {
        "id": "wkjtWGBVJQHX"
      },
      "execution_count": null,
      "outputs": []
    }
  ]
}